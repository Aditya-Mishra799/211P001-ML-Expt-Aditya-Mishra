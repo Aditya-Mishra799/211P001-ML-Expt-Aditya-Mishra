{
  "cells": [
    {
      "cell_type": "markdown",
      "metadata": {
        "id": "08xnRNOXVeuV"
      },
      "source": [
        "# Name : Aditya Shyamanand Mishra\n",
        "# UIN : 211P001\n",
        "# Roll No. : 25\n",
        "# Branch : Comps"
      ]
    },
    {
      "cell_type": "code",
      "execution_count": null,
      "metadata": {
        "colab": {
          "base_uri": "https://localhost:8080/",
          "height": 206
        },
        "id": "SPze6M6PSeQT",
        "outputId": "15a58391-4ad0-427c-c02c-79f1ee3f6f1c"
      },
      "outputs": [
        {
          "data": {
            "text/html": [
              "<div>\n",
              "<style scoped>\n",
              "    .dataframe tbody tr th:only-of-type {\n",
              "        vertical-align: middle;\n",
              "    }\n",
              "\n",
              "    .dataframe tbody tr th {\n",
              "        vertical-align: top;\n",
              "    }\n",
              "\n",
              "    .dataframe thead th {\n",
              "        text-align: right;\n",
              "    }\n",
              "</style>\n",
              "<table border=\"1\" class=\"dataframe\">\n",
              "  <thead>\n",
              "    <tr style=\"text-align: right;\">\n",
              "      <th></th>\n",
              "      <th>cgpa</th>\n",
              "      <th>package</th>\n",
              "    </tr>\n",
              "  </thead>\n",
              "  <tbody>\n",
              "    <tr>\n",
              "      <th>0</th>\n",
              "      <td>6.89</td>\n",
              "      <td>3.26</td>\n",
              "    </tr>\n",
              "    <tr>\n",
              "      <th>1</th>\n",
              "      <td>5.12</td>\n",
              "      <td>1.98</td>\n",
              "    </tr>\n",
              "    <tr>\n",
              "      <th>2</th>\n",
              "      <td>7.82</td>\n",
              "      <td>3.25</td>\n",
              "    </tr>\n",
              "    <tr>\n",
              "      <th>3</th>\n",
              "      <td>7.42</td>\n",
              "      <td>3.67</td>\n",
              "    </tr>\n",
              "    <tr>\n",
              "      <th>4</th>\n",
              "      <td>6.94</td>\n",
              "      <td>3.57</td>\n",
              "    </tr>\n",
              "  </tbody>\n",
              "</table>\n",
              "</div>"
            ],
            "text/plain": [
              "   cgpa  package\n",
              "0  6.89     3.26\n",
              "1  5.12     1.98\n",
              "2  7.82     3.25\n",
              "3  7.42     3.67\n",
              "4  6.94     3.57"
            ]
          },
          "execution_count": 1,
          "metadata": {},
          "output_type": "execute_result"
        }
      ],
      "source": [
        "import matplotlib.pyplot as plt\n",
        "import pandas as pd\n",
        "import numpy as np\n",
        "df = pd.read_csv('./placement.csv')\n",
        "df.head()"
      ]
    },
    {
      "cell_type": "code",
      "execution_count": null,
      "metadata": {
        "colab": {
          "base_uri": "https://localhost:8080/",
          "height": 472
        },
        "id": "VqXu1qf9Sl9s",
        "outputId": "bbd01a9a-28d7-4968-91ec-8d1ce3f4846d"
      },
      "outputs": [
        {
          "data": {
            "image/png": "[encoded data removed]",
            "text/plain": [
              "<Figure size 640x480 with 1 Axes>"
            ]
          },
          "metadata": {},
          "output_type": "display_data"
        }
      ],
      "source": [
        "\n",
        "# plotting the scatter plot\n",
        "plt.scatter(df['cgpa'],df['package'])\n",
        "plt.xlabel('CGPA') # setting x label\n",
        "plt.ylabel('Package(in lpa)') # setting y label\n",
        "plt.title('By Aditya Mishra')\n",
        "plt.show()"
      ]
    },
    {
      "cell_type": "code",
      "execution_count": null,
      "metadata": {
        "id": "S39qIefsSz1S"
      },
      "outputs": [],
      "source": [
        "class LinearRegression:\n",
        "  def __init__(self):\n",
        "    self.m = None\n",
        "    self.c = None\n",
        "  def fit(self,x_train,y_train):\n",
        "    num, den = 0,0\n",
        "    x_mean, y_mean = x_train.mean(), y_train.mean()\n",
        "    for i in range(len(x_train)):\n",
        "      num = num + ((x_train[i]-x_mean)*(y_train[i]-y_mean))\n",
        "      den = den + ((x_train[i]-x_mean)**2)\n",
        "    m = num/den\n",
        "    c = y_mean - (m*x_mean)\n",
        "    self.m = m\n",
        "    self.c = c\n",
        "  def predict(self,x_test):\n",
        "    if self.m is None or self.c is None:\n",
        "      print('Model is not trained yet, Call the fit method.')\n",
        "      return None\n",
        "    return self.m*x_test + self.c"
      ]
    },
    {
      "cell_type": "code",
      "execution_count": null,
      "metadata": {
        "colab": {
          "base_uri": "https://localhost:8080/"
        },
        "id": "hHG0kqxVUBBE",
        "outputId": "f1fe94ae-25eb-4180-9736-e5bee1f0ce37"
      },
      "outputs": [
        {
          "name": "stdout",
          "output_type": "stream",
          "text": [
            "[[3.00470589]]\n"
          ]
        }
      ],
      "source": [
        "from sklearn.model_selection import train_test_split\n",
        "# Getting cgpa values as X and pacakge as Y\n",
        "X, Y= df.iloc[:,0], df.iloc[:,1]\n",
        "X_train,X_test,Y_train,Y_test = train_test_split(X,Y,test_size=0.2,random_state=0)\n",
        "\n",
        "lr_model = LinearRegression()\n",
        "lr_model.fit(np.array(X_train).reshape(-1,1),np.array(Y_train).reshape(-1,1))\n",
        "Y_pred = lr_model.predict(np.array(7).reshape(-1, 1))\n",
        "print(Y_pred)"
      ]
    },
    {
      "cell_type": "code",
      "execution_count": null,
      "metadata": {
        "id": "UBk-0BdxVU19"
      },
      "outputs": [],
      "source": [
        "import tkinter as tk\n",
        "from matplotlib.figure import Figure\n",
        "from matplotlib.backends.backend_tkagg import FigureCanvasTkAgg\n",
        "root = tk.Tk()\n",
        "root.title(\"Package (in LPA) Prediction\")\n",
        "root.geometry('800x400')\n",
        "\n",
        "fig = Figure(figsize=(8, 6))\n",
        "scatter_plot = fig.add_subplot(111)\n",
        "\n",
        "def predict_package():\n",
        "    try:\n",
        "        cgpa = float(entry_cgpa.get())\n",
        "\n",
        "        predicted_package = lr_model.predict([[cgpa]])\n",
        "\n",
        "        label_prediction.config(text=f\"Predicted Package: {predicted_package[0][0]:.2f} LPA\")\n",
        "\n",
        "    except ValueError:\n",
        "        label_prediction.config(text=\"Please enter a valid CGPA\")\n",
        "\n",
        "label_cgpa = tk.Label(root, text=\"Enter CGPA:\")\n",
        "label_cgpa.pack(pady=10)\n",
        "\n",
        "entry_cgpa = tk.Entry(root, width=10)\n",
        "entry_cgpa.pack()\n",
        "\n",
        "button_predict = tk.Button(root, text=\"Predict Package\", command=predict_package)\n",
        "button_predict.pack(pady=10)\n",
        "\n",
        "label_prediction = tk.Label(root, text=\"\")\n",
        "label_prediction.pack(pady=10)\n",
        "\n",
        "scatter_plot.scatter(df['cgpa'], df['package'])\n",
        "scatter_plot.plot(X_train, lr_model.predict(np.array(X_train).reshape(-1,1)),  color='orange')\n",
        "scatter_plot.set_xlabel('CGPA')\n",
        "scatter_plot.set_ylabel('Package')\n",
        "scatter_plot.set_title('Package Prediction based on CGPA  By Aditya Mishra')\n",
        "\n",
        "canvas = FigureCanvasTkAgg(fig, master=root)\n",
        "canvas.draw()\n",
        "canvas.get_tk_widget().pack(side=tk.TOP, fill=tk.BOTH, expand=1)\n",
        "\n",
        "tk.mainloop()"
      ]
    }
  ],
  "metadata": {
    "colab": {
      "provenance": []
    },
    "kernelspec": {
      "display_name": "Python 3 (ipykernel)",
      "language": "python",
      "name": "python3"
    },
    "language_info": {
      "codemirror_mode": {
        "name": "ipython",
        "version": 3
      },
      "file_extension": ".py",
      "mimetype": "text/x-python",
      "name": "python",
      "nbconvert_exporter": "python",
      "pygments_lexer": "ipython3",
      "version": "3.11.5"
    }
  },
  "nbformat": 4,
  "nbformat_minor": 0
}