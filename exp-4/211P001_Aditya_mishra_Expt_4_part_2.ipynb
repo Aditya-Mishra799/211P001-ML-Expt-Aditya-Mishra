{
  "nbformat": 4,
  "nbformat_minor": 0,
  "metadata": {
    "colab": {
      "provenance": []
    },
    "kernelspec": {
      "name": "python3",
      "display_name": "Python 3"
    },
    "language_info": {
      "name": "python"
    }
  },
  "cells": [
    {
      "cell_type": "code",
      "execution_count": 2,
      "metadata": {
        "colab": {
          "base_uri": "https://localhost:8080/",
          "height": 349
        },
        "id": "5_ooWtkvfbuv",
        "outputId": "cbaebfbe-8429-4249-d22d-a66f506d7c76"
      },
      "outputs": [
        {
          "output_type": "stream",
          "name": "stdout",
          "text": [
            "Accuracy: 0.9750\n"
          ]
        },
        {
          "output_type": "error",
          "ename": "TclError",
          "evalue": "no display name and no $DISPLAY environment variable",
          "traceback": [
            "\u001b[0;31m---------------------------------------------------------------------------\u001b[0m",
            "\u001b[0;31mTclError\u001b[0m                                  Traceback (most recent call last)",
            "\u001b[0;32m<ipython-input-2-df7725a443b2>\u001b[0m in \u001b[0;36m<cell line: 50>\u001b[0;34m()\u001b[0m\n\u001b[1;32m     48\u001b[0m \u001b[0;34m\u001b[0m\u001b[0m\n\u001b[1;32m     49\u001b[0m \u001b[0;31m# Launch the app\u001b[0m\u001b[0;34m\u001b[0m\u001b[0;34m\u001b[0m\u001b[0m\n\u001b[0;32m---> 50\u001b[0;31m \u001b[0mroot\u001b[0m \u001b[0;34m=\u001b[0m \u001b[0mTk\u001b[0m\u001b[0;34m(\u001b[0m\u001b[0;34m)\u001b[0m\u001b[0;34m\u001b[0m\u001b[0;34m\u001b[0m\u001b[0m\n\u001b[0m\u001b[1;32m     51\u001b[0m \u001b[0mroot\u001b[0m\u001b[0;34m.\u001b[0m\u001b[0mtitle\u001b[0m\u001b[0;34m(\u001b[0m\u001b[0;34m\"Digit Recognizer by Aditya S. Mishra\"\u001b[0m\u001b[0;34m)\u001b[0m\u001b[0;34m\u001b[0m\u001b[0;34m\u001b[0m\u001b[0m\n\u001b[1;32m     52\u001b[0m \u001b[0mroot\u001b[0m\u001b[0;34m.\u001b[0m\u001b[0mgeometry\u001b[0m\u001b[0;34m(\u001b[0m\u001b[0;34m\"400x400\"\u001b[0m\u001b[0;34m)\u001b[0m\u001b[0;34m\u001b[0m\u001b[0;34m\u001b[0m\u001b[0m\n",
            "\u001b[0;32m/usr/lib/python3.10/tkinter/__init__.py\u001b[0m in \u001b[0;36m__init__\u001b[0;34m(self, screenName, baseName, className, useTk, sync, use)\u001b[0m\n\u001b[1;32m   2297\u001b[0m                 \u001b[0mbaseName\u001b[0m \u001b[0;34m=\u001b[0m \u001b[0mbaseName\u001b[0m \u001b[0;34m+\u001b[0m \u001b[0mext\u001b[0m\u001b[0;34m\u001b[0m\u001b[0;34m\u001b[0m\u001b[0m\n\u001b[1;32m   2298\u001b[0m         \u001b[0minteractive\u001b[0m \u001b[0;34m=\u001b[0m \u001b[0;32mFalse\u001b[0m\u001b[0;34m\u001b[0m\u001b[0;34m\u001b[0m\u001b[0m\n\u001b[0;32m-> 2299\u001b[0;31m         \u001b[0mself\u001b[0m\u001b[0;34m.\u001b[0m\u001b[0mtk\u001b[0m \u001b[0;34m=\u001b[0m \u001b[0m_tkinter\u001b[0m\u001b[0;34m.\u001b[0m\u001b[0mcreate\u001b[0m\u001b[0;34m(\u001b[0m\u001b[0mscreenName\u001b[0m\u001b[0;34m,\u001b[0m \u001b[0mbaseName\u001b[0m\u001b[0;34m,\u001b[0m \u001b[0mclassName\u001b[0m\u001b[0;34m,\u001b[0m \u001b[0minteractive\u001b[0m\u001b[0;34m,\u001b[0m \u001b[0mwantobjects\u001b[0m\u001b[0;34m,\u001b[0m \u001b[0museTk\u001b[0m\u001b[0;34m,\u001b[0m \u001b[0msync\u001b[0m\u001b[0;34m,\u001b[0m \u001b[0muse\u001b[0m\u001b[0;34m)\u001b[0m\u001b[0;34m\u001b[0m\u001b[0;34m\u001b[0m\u001b[0m\n\u001b[0m\u001b[1;32m   2300\u001b[0m         \u001b[0;32mif\u001b[0m \u001b[0museTk\u001b[0m\u001b[0;34m:\u001b[0m\u001b[0;34m\u001b[0m\u001b[0;34m\u001b[0m\u001b[0m\n\u001b[1;32m   2301\u001b[0m             \u001b[0mself\u001b[0m\u001b[0;34m.\u001b[0m\u001b[0m_loadtk\u001b[0m\u001b[0;34m(\u001b[0m\u001b[0;34m)\u001b[0m\u001b[0;34m\u001b[0m\u001b[0;34m\u001b[0m\u001b[0m\n",
            "\u001b[0;31mTclError\u001b[0m: no display name and no $DISPLAY environment variable"
          ]
        }
      ],
      "source": [
        "import numpy as np\n",
        "from sklearn.datasets import load_digits\n",
        "from sklearn.model_selection import train_test_split\n",
        "from sklearn.linear_model import LogisticRegression\n",
        "from sklearn.metrics import accuracy_score\n",
        "from tkinter import Tk, Canvas, Button, messagebox\n",
        "from PIL import Image, ImageDraw\n",
        "\n",
        "# Load and split the dataset\n",
        "X_train, X_test, y_train, y_test = train_test_split(*load_digits(return_X_y=True), test_size=0.2, random_state=42)\n",
        "\n",
        "# Train the logistic regression model\n",
        "model = LogisticRegression(max_iter=10000)\n",
        "model.fit(X_train, y_train)\n",
        "\n",
        "# Display accuracy\n",
        "print(f'Accuracy: {accuracy_score(y_test, model.predict(X_test)):.4f}')\n",
        "\n",
        "# Predict digit from an image\n",
        "def predict_digit(img):\n",
        "    img = img.resize((8, 8)).convert('L')  # Resize and convert to grayscale\n",
        "    img = 16 - (np.array(img) / 16).reshape(1, -1)  # Invert colors and flatten\n",
        "    return model.predict(img)[0]\n",
        "\n",
        "# GUI class for digit drawing and recognition\n",
        "class DigitApp:\n",
        "    def __init__(self, root):\n",
        "        self.canvas = Canvas(root, width=200, height=200, bg=\"white\")\n",
        "        self.canvas.pack(pady=20)\n",
        "        Button(root, text=\"Clear\", command=self.clear_canvas).pack(side=\"left\", padx=20)\n",
        "        Button(root, text=\"Predict\", command=self.classify_digit).pack(side=\"right\", padx=20)\n",
        "        self.canvas.bind(\"<B1-Motion>\", self.draw)\n",
        "        self.image = Image.new(\"RGB\", (200, 200), \"white\")\n",
        "        self.draw_img = ImageDraw.Draw(self.image)\n",
        "\n",
        "    def clear_canvas(self):\n",
        "        self.canvas.delete(\"all\")\n",
        "        self.image = Image.new(\"RGB\", (200, 200), \"white\")\n",
        "        self.draw_img = ImageDraw.Draw(self.image)\n",
        "\n",
        "    def draw(self, event):\n",
        "        self.canvas.create_oval(event.x - 8, event.y - 8, event.x + 8, event.y + 8, fill=\"black\")\n",
        "        self.draw_img.ellipse([event.x - 8, event.y - 8, event.x + 8, event.y + 8], fill=\"black\")\n",
        "\n",
        "    def classify_digit(self):\n",
        "        digit = predict_digit(self.image)\n",
        "        messagebox.showinfo(\"Prediction\", f\"The digit is: {digit}\")\n",
        "\n",
        "# Launch the app\n",
        "root = Tk()\n",
        "root.title(\"Digit Recognizer by Aditya S. Mishra\")\n",
        "root.geometry(\"400x400\")\n",
        "app = DigitApp(root)\n",
        "root.mainloop()\n"
      ]
    }
  ]
}